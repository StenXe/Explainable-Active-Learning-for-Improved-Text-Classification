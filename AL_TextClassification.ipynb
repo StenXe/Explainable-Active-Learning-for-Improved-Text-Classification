{
 "cells": [
  {
   "cell_type": "code",
   "execution_count": 1,
   "id": "75dd8828",
   "metadata": {
    "ExecuteTime": {
     "end_time": "2021-11-25T11:25:43.607008Z",
     "start_time": "2021-11-25T11:25:40.107704Z"
    }
   },
   "outputs": [],
   "source": [
    "import numpy as np\n",
    "import pandas as pd\n",
    "import seaborn as sbn\n",
    "import collections\n",
    "import os\n",
    "import datetime\n",
    "import shap\n",
    "import math\n",
    "from scipy.stats import entropy\n",
    "from sklearn.metrics import classification_report\n",
    "\n",
    "import tensorflow as tf\n",
    "tf.compat.v1.logging.set_verbosity(tf.compat.v1.logging.ERROR)\n",
    "tf.compat.v1.disable_v2_behavior()\n",
    "\n",
    "from tensorflow.keras.preprocessing import sequence\n",
    "from tensorflow.keras.models import Sequential\n",
    "from tensorflow.keras.layers import Dense, Embedding\n",
    "from tensorflow.keras.layers import LSTM\n",
    "from tensorflow.keras.datasets import imdb\n",
    "\n",
    "from tqdm import tqdm\n",
    "\n",
    "from IPython.display import Markdown, display"
   ]
  },
  {
   "cell_type": "code",
   "execution_count": 2,
   "id": "ffa780ff",
   "metadata": {
    "ExecuteTime": {
     "end_time": "2021-11-25T11:25:43.622621Z",
     "start_time": "2021-11-25T11:25:43.607008Z"
    }
   },
   "outputs": [],
   "source": [
    "def printmd(string):\n",
    "    display(Markdown(string))"
   ]
  },
  {
   "cell_type": "code",
   "execution_count": 3,
   "id": "73d9a3f3",
   "metadata": {
    "ExecuteTime": {
     "end_time": "2021-11-25T11:25:45.317033Z",
     "start_time": "2021-11-25T11:25:43.622621Z"
    }
   },
   "outputs": [],
   "source": [
    "#Global Variables\n",
    "RANDOM_SEED = 42\n",
    "max_features = 20000\n",
    "maxlen = 80                        # cut texts after this number of words (among top max_features most common words)\n",
    "batch_size = 32\n",
    "EPOCHS = 3\n",
    "q, c, p, b, k, initial_seed_size, initial_seed, j, S_indices, U_indices, train_indices, model_theta = 0, 0, 0, 0, 0, 0, 0, 0, 0, 0, 0, 0"
   ]
  },
  {
   "cell_type": "code",
   "execution_count": 14,
   "id": "13ebcabc",
   "metadata": {
    "ExecuteTime": {
     "end_time": "2021-11-25T11:30:05.969927Z",
     "start_time": "2021-11-25T11:30:05.947926Z"
    }
   },
   "outputs": [],
   "source": [
    "def load_data():\n",
    "    print('Loading data...')\n",
    "    (x_train, y_train), (x_test, y_test) = imdb.load_data(num_words=max_features, seed=RANDOM_SEED)\n",
    "    print(len(x_train), 'train sequences')\n",
    "    print(len(x_test), 'test sequences')\n",
    "\n",
    "    print('Pad sequences (samples x time)')\n",
    "    x_train = sequence.pad_sequences(x_train, maxlen=maxlen)\n",
    "    x_test = sequence.pad_sequences(x_test, maxlen=maxlen)\n",
    "    print('x_train shape:', x_train.shape)\n",
    "    print('x_test shape:', x_test.shape)\n",
    "\n",
    "    return x_train, y_train, x_test, y_test\n",
    "\n",
    "def get_lstm_model():\n",
    "    print('Build model...')\n",
    "    model_lstm = Sequential()\n",
    "    model_lstm.add(Embedding(max_features, 128))\n",
    "    model_lstm.add(LSTM(128, dropout=0.2, recurrent_dropout=0.2))\n",
    "    model_lstm.add(Dense(2, activation='softmax'))\n",
    "\n",
    "    model_lstm.compile(loss='sparse_categorical_crossentropy',\n",
    "                  optimizer='adam',\n",
    "                  metrics=['accuracy'])\n",
    "    return model_lstm\n",
    "\n",
    "def init_workflow(x_train):\n",
    "    global q, c, p, b, k, initial_seed_size, initial_seed, j, S_indices, U_indices, model_theta, train_indices\n",
    "    np.random.seed(RANDOM_SEED)\n",
    "    p = 2\n",
    "    train_indices = [i for i in range(len(x_train))]\n",
    "    initial_seed_size = int(len(x_train) * 0.005)\n",
    "    b = initial_seed_size\n",
    "    k = 2 * initial_seed_size\n",
    "    initial_seed = np.random.choice(train_indices, size=initial_seed_size, replace=False)\n",
    "    j = 1\n",
    "    S_indices = initial_seed\n",
    "    U_indices = list(set(train_indices) - set(S_indices))\n",
    "\n",
    "def train_model_lstm(model_lstm, x_train, y_train):\n",
    "    print('Train...')\n",
    "    model_lstm.fit(x_train, y_train,\n",
    "              batch_size=batch_size,\n",
    "              epochs=EPOCHS,\n",
    "              validation_data=(x_test, y_test))\n",
    "    score, acc = model_lstm.evaluate(x_test, y_test,\n",
    "                                batch_size=batch_size)\n",
    "    print('Test score:', score)\n",
    "    print('Test accuracy:', acc)\n",
    "\n",
    "    return model_lstm\n",
    "\n",
    "\n",
    "def compute_cosine_similarity(term_dict_1, term_dict_2):\n",
    "    cosine_sim = 0\n",
    "    for index in term_dict_1.keys():\n",
    "        if(index in term_dict_2):\n",
    "            cosine_sim += term_dict_1[index] * term_dict_2[index]\n",
    "    values_term_1 = sum([v**2 for k, v in term_dict_1.items()])\n",
    "    values_term_2 = sum([v**2 for k, v in term_dict_2.items()])\n",
    "\n",
    "    cosine_sim /= ( math.sqrt(values_term_1) * math.sqrt(values_term_2) )\n",
    "\n",
    "    return cosine_sim\n",
    "\n",
    "def compute_fidelity(model_theta, test_samples_i):\n",
    "    \n",
    "    x_subset = x_test[test_samples_i]\n",
    "    TOP_FEATURE_PCT = 0.6\n",
    "    TOP_FEATURES_LEN = int(len(x_subset[0]) * TOP_FEATURE_PCT)\n",
    "    \n",
    "    print(f'{len(x_subset)=} {TOP_FEATURES_LEN=}')\n",
    "    pred_orig = np.argmax(model_theta.predict(x_subset), axis=1)\n",
    "    explainer = shap.DeepExplainer(model_theta, x_subset)\n",
    "    shap_values_labelled = explainer.shap_values(x_subset)\n",
    "    \n",
    "    pred_class_shap_values = []\n",
    "    x_new_subset = np.copy(x_subset)\n",
    "    for i in range(len(shap_values_labelled[0])):\n",
    "#         pred_class_shap_values.append(shap_values_labelled[pred_orig[i]][i])\n",
    "        \n",
    "        sort_index = np.argsort(-shap_values_labelled[pred_orig[i]][i])\n",
    "        top_features_index = sort_index[:TOP_FEATURES_LEN]\n",
    "        mask = np.ones(len(x_subset[0]), dtype=bool)\n",
    "        mask[top_features_index] = False\n",
    "        x_new_subset[i, mask] = 0\n",
    "    \n",
    "    \n",
    "#     for i in range(len(pred_class_shap_values)):\n",
    "#         print(pred_class_shap_values[i])\n",
    "#         sort_index = np.argsort(-pred_class_shap_values[i])\n",
    "#         print(sort_index)\n",
    "#         top_features_index = sort_index[:TOP_FEATURES_LEN]\n",
    "#         print(top_features_index)\n",
    "#         print('orig x_subset')\n",
    "#         print(x_new_subset[i])\n",
    "#         mask = np.ones(len(x_subset[0]), dtype=bool)\n",
    "#         mask[top_features_index] = False\n",
    "#         x_new_subset[i, mask] = 0\n",
    "#         print('masked')\n",
    "#         print(x_new_subset[i])\n",
    "#         break\n",
    "    pred_masked = np.argmax(model_theta.predict(x_new_subset), axis=1)\n",
    "    \n",
    "    return np.sum(pred_orig == pred_masked)"
   ]
  },
  {
   "cell_type": "code",
   "execution_count": null,
   "id": "66994c78",
   "metadata": {},
   "outputs": [],
   "source": [
    "%%time\n",
    "\n",
    "global q, c, p, b, k, initial_seed_size, initial_seed, j, S_indices, U_indices, model_theta, train_indices\n",
    "init_workflow()\n",
    "\n",
    "while(j <= p):\n",
    "    print(f'==========Active Learning Iteration {j}/{p}==========')\n",
    "    x_train_subset = x_train[S_indices]\n",
    "    y_train_subset = y_train[S_indices]\n",
    "\n",
    "    print('Training Prediction Model')\n",
    "    model_theta = get_lstm_model()\n",
    "    model_theta = train_model_lstm(model_theta, x_train_subset, y_train_subset)\n",
    "\n",
    "    train_preds = np.argmax(model_theta.predict(x_train_subset), axis=1)\n",
    "\n",
    "    print('Generating Classification Report')\n",
    "    y_pred = np.argmax(model_theta.predict(x_test), axis=1)\n",
    "    print(classification_report(y_test, y_pred, target_names=['Negative', 'Positive']))\n",
    "\n",
    "    if(j == p):\n",
    "        break\n",
    "\n",
    "    print('Training Explainer Model on Labelled Set')\n",
    "    explainer = shap.DeepExplainer(model_theta, x_train_subset)\n",
    "\n",
    "    print(f'Computing Shap values for labelled instances - {len(x_train_subset)}')\n",
    "    shap_values_labelled = explainer.shap_values(x_train_subset)\n",
    "\n",
    "    print('Predicting unlabelled instances')\n",
    "    s_x = np.ndarray((len(U_indices), 3))\n",
    "    preds = model_theta.predict(x_train[U_indices])\n",
    "    # s_x[:, 0] = np.amax(preds, axis=1)\n",
    "    s_x[:, 0] = entropy(np.array(preds), base=2,axis=1)\n",
    "    s_x[:, 1] = U_indices\n",
    "    s_x[:, 2] = np.argmax(preds, axis=1)\n",
    "\n",
    "    sort_index = np.argsort(-s_x[:, 0])\n",
    "    s_x = s_x[sort_index]\n",
    "    c_indxs = list(map(int, s_x[:k, 1]))\n",
    "\n",
    "    pred_y_dict = dict(zip(s_x[:k, 1], s_x[:k, 2]))\n",
    "\n",
    "    print('Training Explainer Model on Unlabelled Candidate Set')\n",
    "    explainer = shap.DeepExplainer(model_theta, x_train[c_indxs])\n",
    "\n",
    "    print(f'Computing Shap values for unlabelled candidate set instances - {len(x_train[c_indxs])}')\n",
    "    shap_values_unlabelled = explainer.shap_values(x_train[c_indxs])\n",
    "\n",
    "    print('Computing Similarities')\n",
    "    xu_kld = np.ndarray((len(c_indxs), 2))\n",
    "    for i, index_xu in enumerate(tqdm(c_indxs)):\n",
    "        term_dict_U = dict(zip(x_train[int(index_xu)], shap_values_unlabelled[int(pred_y_dict[int(index_xu)])][i]))\n",
    "        for q, index_x in enumerate(S_indices):\n",
    "            term_dict_S = dict(zip(x_train[int(index_x)], shap_values_labelled[y_train[int(index_x)]][q]))\n",
    "            xu_kld[i][0] += compute_cosine_similarity(term_dict_S, term_dict_U)\n",
    "        xu_kld[i][0] /= len(S_indices)\n",
    "        xu_kld[i][1] = index_xu\n",
    "\n",
    "    sort_index = np.argsort(xu_kld[:, 0])\n",
    "    xu_kld = xu_kld[sort_index]                                             #least similar first; get such top k samples\n",
    "    delta_S = xu_kld[:b, 1]\n",
    "    print(f'Adding {len(delta_S)} samples to labelled set.')\n",
    "    S_indices = np.append(S_indices, list(map(int, delta_S)))\n",
    "    print(f'Total samples in labelled set {len(S_indices)}')\n",
    "    print(f'Removing {len(delta_S)} samples from unlabelled set')\n",
    "    U_indices = list(set(train_indices) - set(S_indices))\n",
    "    print(f'Total samples in unlabelled set {len(U_indices)}')\n",
    "    j += 1"
   ]
  },
  {
   "cell_type": "code",
   "execution_count": null,
   "id": "d396b8cc",
   "metadata": {},
   "outputs": [],
   "source": [
    "test_indices = [i for i in range(len(x_test))]\n",
    "\n",
    "global model_theta\n",
    "\n",
    "np.random.seed(RANDOM_SEED)\n",
    "test_samples_i = np.random.choice(test_indices, size=100, replace=False)\n",
    "fidelity = compute_fidelity(model_theta, test_samples_i)\n",
    "print(f'Fidelity {fidelity}')"
   ]
  },
  {
   "cell_type": "code",
   "execution_count": 15,
   "id": "1f768872",
   "metadata": {
    "ExecuteTime": {
     "end_time": "2021-11-22T21:32:44.750486Z",
     "start_time": "2021-11-22T21:30:20.488489Z"
    }
   },
   "outputs": [
    {
     "name": "stdout",
     "output_type": "stream",
     "text": [
      "Loading data...\n",
      "25000 train sequences\n",
      "25000 test sequences\n",
      "Pad sequences (samples x time)\n",
      "x_train shape: (25000, 80)\n",
      "x_test shape: (25000, 80)\n"
     ]
    },
    {
     "data": {
      "text/markdown": [
       "==========Active Learning Iteration 1/2=========="
      ],
      "text/plain": [
       "<IPython.core.display.Markdown object>"
      ]
     },
     "metadata": {},
     "output_type": "display_data"
    },
    {
     "name": "stdout",
     "output_type": "stream",
     "text": [
      "Training Prediction Model\n",
      "Build model...\n",
      "Train...\n",
      "Train on 125 samples, validate on 25000 samples\n",
      "Epoch 1/3\n",
      "125/125 [==============================] - 16s 129ms/sample - loss: 0.6944 - acc: 0.5040 - val_loss: 0.6931 - val_acc: 0.5000\n",
      "Epoch 2/3\n",
      "125/125 [==============================] - 17s 135ms/sample - loss: 0.6783 - acc: 0.5600 - val_loss: 0.6936 - val_acc: 0.5000\n",
      "Epoch 3/3\n",
      "125/125 [==============================] - 17s 137ms/sample - loss: 0.6600 - acc: 0.5600 - val_loss: 0.6993 - val_acc: 0.5000\n",
      "Test score: 0.6993396546936035\n",
      "Test accuracy: 0.5\n",
      "Selecting random 125 samples\n",
      "Adding 125 samples to labelled set.\n",
      "Total samples in labelled set 250\n",
      "Removing 125 samples from unlabelled set\n",
      "Total samples in unlabelled set 24750\n"
     ]
    },
    {
     "data": {
      "text/markdown": [
       "==========Active Learning Iteration 2/2=========="
      ],
      "text/plain": [
       "<IPython.core.display.Markdown object>"
      ]
     },
     "metadata": {},
     "output_type": "display_data"
    },
    {
     "name": "stdout",
     "output_type": "stream",
     "text": [
      "Training Prediction Model\n",
      "Build model...\n",
      "Train...\n",
      "Train on 250 samples, validate on 25000 samples\n",
      "Epoch 1/3\n",
      "250/250 [==============================] - 19s 74ms/sample - loss: 0.6946 - acc: 0.4760 - val_loss: 0.6923 - val_acc: 0.5021\n",
      "Epoch 2/3\n",
      "250/250 [==============================] - 18s 72ms/sample - loss: 0.6789 - acc: 0.7000 - val_loss: 0.6898 - val_acc: 0.5302\n",
      "Epoch 3/3\n",
      "250/250 [==============================] - 18s 72ms/sample - loss: 0.6344 - acc: 0.8680 - val_loss: 0.6702 - val_acc: 0.6078\n",
      "Test score: 0.6701873497962951\n",
      "Test accuracy: 0.60776\n",
      "Wall time: 2min 24s\n"
     ]
    }
   ],
   "source": [
    "%%time\n",
    "\n",
    "global q, c, p, b, k, initial_seed_size, initial_seed, j, S_indices, U_indices, model_theta, train_indices\n",
    "x_train, y_train, x_test, y_test = load_data()\n",
    "init_workflow(x_train)\n",
    "\n",
    "while(j <= p):\n",
    "    printmd(f'==========Active Learning Iteration {j}/{p}==========')\n",
    "    x_train_subset = x_train[S_indices]\n",
    "    y_train_subset = y_train[S_indices]\n",
    "    \n",
    "    print('Training Prediction Model')\n",
    "    model_theta = get_lstm_model()\n",
    "    model_theta = train_model_lstm(model_theta, x_train_subset, y_train_subset)\n",
    "    \n",
    "    if(j == p):\n",
    "        break\n",
    "    \n",
    "    print(f'Selecting random {initial_seed_size} samples')\n",
    "    delta_S = np.random.choice(U_indices, size=initial_seed_size, replace=False)\n",
    "    \n",
    "    print(f'Adding {len(delta_S)} samples to labelled set.')\n",
    "    S_indices = np.append(S_indices, list(map(int, delta_S)))\n",
    "    print(f'Total samples in labelled set {len(S_indices)}')\n",
    "    \n",
    "    print(f'Removing {len(delta_S)} samples from unlabelled set')\n",
    "    U_indices = list(set(train_indices) - set(S_indices))\n",
    "    print(f'Total samples in unlabelled set {len(U_indices)}')\n",
    "\n",
    "    U_indices = list(set(train_indices) - set(S_indices))\n",
    "    j += 1"
   ]
  },
  {
   "cell_type": "code",
   "execution_count": 34,
   "id": "ce50177b",
   "metadata": {
    "ExecuteTime": {
     "end_time": "2021-11-22T23:02:01.624388Z",
     "start_time": "2021-11-22T22:59:57.942237Z"
    }
   },
   "outputs": [
    {
     "name": "stdout",
     "output_type": "stream",
     "text": [
      "len(x_subset)=100 TOP_FEATURES_LEN=48\n",
      "Fidelity 96\n"
     ]
    }
   ],
   "source": [
    "test_indices = [i for i in range(len(x_test))]\n",
    "\n",
    "global model_theta\n",
    "\n",
    "np.random.seed(RANDOM_SEED)\n",
    "test_samples_i = np.random.choice(test_indices, size=100, replace=False)\n",
    "fidelity = compute_fidelity(model_theta, test_samples_i)\n",
    "print(f'Fidelity {fidelity}')"
   ]
  },
  {
   "cell_type": "code",
   "execution_count": null,
   "id": "80200ba6",
   "metadata": {},
   "outputs": [],
   "source": [
    "%%time\n",
    "\n",
    "global q, c, p, b, k, initial_seed_size, initial_seed, j, S_indices, U_indices, model_theta, train_indices\n",
    "init_workflow()\n",
    "\n",
    "while(j <= p):\n",
    "    printmd(f'==========Active Learning Iteration {j}/{p}==========')\n",
    "    x_train_subset = x_train[S_indices]\n",
    "    y_train_subset = y_train[S_indices]\n",
    "    \n",
    "    print('Training Prediction Model')\n",
    "    model_theta = get_lstm_model()\n",
    "    model_theta = train_model_lstm(model_theta, x_train_subset, y_train_subset)\n",
    "    \n",
    "    if(j == p):\n",
    "        break\n",
    "    \n",
    "    print('Predicting unlabelled instances and computing uncertainty by least confidence')\n",
    "    s_x = np.ndarray((len(U_indices), 2))\n",
    "    s_x[:, 0] = 1-np.amax(model_theta.predict(x_train[U_indices]), axis=1)\n",
    "    s_x[:, 1] = U_indices\n",
    "    sort_index = np.argsort(s_x[:, 0])\n",
    "    s_x = s_x[-sort_index]   #larger the (1-model_top_pred) difference, lower the confidence of the model in that prediction, get such top k samples\n",
    "    delta_S = s_x[:k, 1]\n",
    "\n",
    "    print(f'Adding {len(delta_S)} samples to labelled set.')\n",
    "    S_indices = np.append(S_indices, list(map(int, delta_S)))\n",
    "    print(f'Total samples in labelled set {len(S_indices)}')\n",
    "    \n",
    "    print(f'Removing {len(delta_S)} samples from unlabelled set')\n",
    "    U_indices = list(set(train_indices) - set(S_indices))\n",
    "    print(f'Total samples in unlabelled set {len(U_indices)}')\n",
    "    \n",
    "    j += 1"
   ]
  },
  {
   "cell_type": "code",
   "execution_count": null,
   "id": "f3fd99c2",
   "metadata": {},
   "outputs": [],
   "source": [
    "test_indices = [i for i in range(len(x_test))]\n",
    "\n",
    "global model_theta\n",
    "\n",
    "np.random.seed(RANDOM_SEED)\n",
    "test_samples_i = np.random.choice(test_indices, size=100, replace=False)\n",
    "fidelity = compute_fidelity(model_theta, test_samples_i)\n",
    "print(f'Fidelity {fidelity}')"
   ]
  },
  {
   "cell_type": "code",
   "execution_count": null,
   "id": "ec53a842",
   "metadata": {},
   "outputs": [],
   "source": [
    "%%time\n",
    "\n",
    "global q, c, p, b, k, initial_seed_size, initial_seed, j, S_indices, U_indices, model_theta, train_indices\n",
    "init_workflow()\n",
    "\n",
    "while(j <= p):\n",
    "    printmd(f'==========Active Learning Iteration {j}/{p}==========')\n",
    "    x_train_subset = x_train[S_indices]\n",
    "    y_train_subset = y_train[S_indices]\n",
    "    \n",
    "    print('Training Prediction Model')\n",
    "    model_theta = get_lstm_model()\n",
    "    model_theta = train_model_lstm(model_theta, x_train_subset, y_train_subset)\n",
    "    \n",
    "    if(j == p):\n",
    "        break\n",
    "    \n",
    "    print('Predicting unlabelled instances and computing uncertainty by smallest margin')\n",
    "    s_x = np.ndarray((len(U_indices), 2))\n",
    "    pred = model_theta.predict(x_train[U_indices])\n",
    "    s_x[:, 0] = abs(pred[:, 0] - pred[:, 1])\n",
    "    s_x[:, 1] = U_indices\n",
    "    sort_index = np.argsort(s_x[:, 0])\n",
    "    s_x = s_x[sort_index]   #smallest difference (margin) means model is struggling to differentiate between the two classes; take such top k samples\n",
    "    delta_S = s_x[:k, 1]\n",
    "\n",
    "    print(f'Adding {len(delta_S)} samples to labelled set.')\n",
    "    S_indices = np.append(S_indices, list(map(int, delta_S)))\n",
    "    print(f'Total samples in labelled set {len(S_indices)}')\n",
    "    \n",
    "    print(f'Removing {len(delta_S)} samples from unlabelled set')\n",
    "    U_indices = list(set(train_indices) - set(S_indices))\n",
    "    print(f'Total samples in unlabelled set {len(U_indices)}')\n",
    "    \n",
    "    j += 1"
   ]
  },
  {
   "cell_type": "code",
   "execution_count": 23,
   "id": "76fc4283",
   "metadata": {
    "ExecuteTime": {
     "end_time": "2021-11-22T21:40:49.866432Z",
     "start_time": "2021-11-22T21:40:49.859432Z"
    }
   },
   "outputs": [
    {
     "name": "stdout",
     "output_type": "stream",
     "text": [
      "a=5 b=6\n"
     ]
    }
   ],
   "source": [
    "test_indices = [i for i in range(len(x_test))]\n",
    "\n",
    "global model_theta\n",
    "\n",
    "np.random.seed(RANDOM_SEED)\n",
    "test_samples_i = np.random.choice(test_indices, size=100, replace=False)\n",
    "fidelity = compute_fidelity(model_theta, test_samples_i)\n",
    "print(f'Fidelity {fidelity}')"
   ]
  },
  {
   "cell_type": "code",
   "execution_count": 1,
   "id": "43d3f0ab",
   "metadata": {
    "ExecuteTime": {
     "end_time": "2021-11-24T15:05:07.002271Z",
     "start_time": "2021-11-24T15:04:55.031510Z"
    }
   },
   "outputs": [],
   "source": [
    "from scipy.stats import entropy"
   ]
  },
  {
   "cell_type": "code",
   "execution_count": 10,
   "id": "5ec42834",
   "metadata": {
    "ExecuteTime": {
     "end_time": "2021-11-24T15:10:47.924208Z",
     "start_time": "2021-11-24T15:10:47.906206Z"
    }
   },
   "outputs": [
    {
     "data": {
      "text/plain": [
       "0.9927744539878083"
      ]
     },
     "execution_count": 10,
     "metadata": {},
     "output_type": "execute_result"
    }
   ],
   "source": [
    "prob = [0.55, 0.45]\n",
    "entropy(prob, axis=0, base=2)"
   ]
  },
  {
   "cell_type": "code",
   "execution_count": 12,
   "id": "97a25120",
   "metadata": {
    "ExecuteTime": {
     "end_time": "2021-11-25T11:29:45.760117Z",
     "start_time": "2021-11-25T11:29:45.547088Z"
    }
   },
   "outputs": [
    {
     "name": "stdout",
     "output_type": "stream",
     "text": [
      "Build model...\n"
     ]
    }
   ],
   "source": [
    "lstm = get_lstm_model()"
   ]
  },
  {
   "cell_type": "code",
   "execution_count": 13,
   "id": "51db634b",
   "metadata": {
    "ExecuteTime": {
     "end_time": "2021-11-25T11:29:46.668305Z",
     "start_time": "2021-11-25T11:29:46.462299Z"
    }
   },
   "outputs": [
    {
     "data": {
      "image/png": "[encoded data removed]",
      "text/plain": [
       "<IPython.core.display.Image object>"
      ]
     },
     "execution_count": 13,
     "metadata": {},
     "output_type": "execute_result"
    }
   ],
   "source": [
    "tf.keras.utils.plot_model(lstm, show_shapes=True)"
   ]
  },
  {
   "cell_type": "code",
   "execution_count": 15,
   "id": "c905328a",
   "metadata": {
    "ExecuteTime": {
     "end_time": "2021-11-25T18:20:14.349799Z",
     "start_time": "2021-11-25T18:20:14.306807Z"
    }
   },
   "outputs": [
    {
     "name": "stdout",
     "output_type": "stream",
     "text": [
      "Model: \"sequential_1\"\n",
      "_________________________________________________________________\n",
      "Layer (type)                 Output Shape              Param #   \n",
      "=================================================================\n",
      "embedding_1 (Embedding)      (None, None, 128)         2560000   \n",
      "_________________________________________________________________\n",
      "lstm_1 (LSTM)                (None, 128)               131584    \n",
      "_________________________________________________________________\n",
      "dense_1 (Dense)              (None, 2)                 258       \n",
      "=================================================================\n",
      "Total params: 2,691,842\n",
      "Trainable params: 2,691,842\n",
      "Non-trainable params: 0\n",
      "_________________________________________________________________\n"
     ]
    }
   ],
   "source": [
    "lstm.summary()"
   ]
  },
  {
   "cell_type": "code",
   "execution_count": null,
   "id": "d1323463",
   "metadata": {},
   "outputs": [],
   "source": []
  }
 ],
 "metadata": {
  "kernelspec": {
   "display_name": "Python 3 (ipykernel)",
   "language": "python",
   "name": "python3"
  },
  "language_info": {
   "codemirror_mode": {
    "name": "ipython",
    "version": 3
   },
   "file_extension": ".py",
   "mimetype": "text/x-python",
   "name": "python",
   "nbconvert_exporter": "python",
   "pygments_lexer": "ipython3",
   "version": "3.8.8"
  }
 },
 "nbformat": 4,
 "nbformat_minor": 5
}
